{
 "cells": [
  {
   "cell_type": "code",
   "execution_count": null,
   "metadata": {},
   "outputs": [],
   "source": [
    "import urllib.request as ul\n",
    "import xmltodict"
   ]
  },
  {
   "cell_type": "code",
   "execution_count": null,
   "metadata": {},
   "outputs": [],
   "source": [
    "url_1 = 'http://openapi.tago.go.kr/openapi/service/BusRouteInfoInqireService'\n",
    "\n",
    "op_11 = '/getRouteNoList' # 노선번호목록조회\n",
    "op_12 = '/getRouteAcctoThrghSttnList' # 노선별경유정류소목록조회\n",
    "op_13 = '/getRouteInfoIem' # 노선정보항목조회\n",
    "op_14 = '/getCtyCodeList' # 도시코드 목록 조회\n",
    "\n",
    "key_1= '?ServiceKey=' + '____'\n",
    "\n",
    "# Opearation 1: 노선번호목록조회\n",
    "cityCode = '&cityCode=' + '25'\n",
    "routeNo = '&routeId=' + '5'\n",
    "\n",
    "# 데이터를 받을 url\n",
    "url = url_1 + op_11 + key_1 + cityCode + routeNo\n",
    "url"
   ]
  },
  {
   "cell_type": "code",
   "execution_count": null,
   "metadata": {},
   "outputs": [],
   "source": [
    "# url의 데이터를 요청함\n",
    "request = ul.Request(url)\n",
    "\n",
    "# 요청받은 데이터를 열어줌\n",
    "response = ul.urlopen(request)\n",
    "\n",
    "# 제대로 데이터가 수신됐는지 확인하는 코드 성공시 200\n",
    "response.getcode()"
   ]
  },
  {
   "cell_type": "code",
   "execution_count": null,
   "metadata": {},
   "outputs": [],
   "source": [
    "responseData = response.read() # 요청받은 데이터를 읽음\n",
    "rD = xmltodict.parse(responseData) # XML형식의 데이터를 dict형식으로 변환시켜줌\n",
    "rDJ = json.dumps(rD) # dict 형식의 데이터를 json형식으로 변환\n",
    "rDD = json.loads(rDJ) # json형식의 데이터를 dict 형식으로 변환\n",
    "print(rDD) # 정상적으로 데이터가 출력되는지 확인"
   ]
  },
  {
   "cell_type": "code",
   "execution_count": null,
   "metadata": {},
   "outputs": [],
   "source": [
    "w_data = rDD[\"response\"][\"body\"][\"items\"][\"item\"] # 해당 dict형식의 파일의 item을 사용하기 편하도록 w_data에 저장\n",
    "w_data"
   ]
  },
  {
   "cell_type": "code",
   "execution_count": null,
   "metadata": {},
   "outputs": [],
   "source": [
    "import pandas as pd\n",
    "pd.DataFrame(w_data)"
   ]
  }
 ],
 "metadata": {
  "kernelspec": {
   "display_name": "Python 3",
   "language": "python",
   "name": "python3"
  },
  "language_info": {
   "codemirror_mode": {
    "name": "ipython",
    "version": 3
   },
   "file_extension": ".py",
   "mimetype": "text/x-python",
   "name": "python",
   "nbconvert_exporter": "python",
   "pygments_lexer": "ipython3",
   "version": "3.7.1"
  },
  "varInspector": {
   "cols": {
    "lenName": 16,
    "lenType": 16,
    "lenVar": 40
   },
   "kernels_config": {
    "python": {
     "delete_cmd_postfix": "",
     "delete_cmd_prefix": "del ",
     "library": "var_list.py",
     "varRefreshCmd": "print(var_dic_list())"
    },
    "r": {
     "delete_cmd_postfix": ") ",
     "delete_cmd_prefix": "rm(",
     "library": "var_list.r",
     "varRefreshCmd": "cat(var_dic_list()) "
    }
   },
   "types_to_exclude": [
    "module",
    "function",
    "builtin_function_or_method",
    "instance",
    "_Feature"
   ],
   "window_display": false
  }
 },
 "nbformat": 4,
 "nbformat_minor": 2
}
